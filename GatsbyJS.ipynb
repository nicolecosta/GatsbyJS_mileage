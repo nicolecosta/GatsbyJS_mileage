{
 "cells": [
  {
   "cell_type": "markdown",
   "metadata": {},
   "source": [
    "# <font color=orange>Gatsby JS</font>\n",
    "Nicole Sarvasi Alves da Costa"
   ]
  },
  {
   "cell_type": "markdown",
   "metadata": {},
   "source": [
    "### Descrição\n",
    "Fazer um tutorial de como criar uma landing page usando componentes do Gatsby.\n",
    "\n",
    "Pontos extras:\n",
    "- Fazer deploy no Netlify ou Github Pages"
   ]
  },
  {
   "cell_type": "markdown",
   "metadata": {},
   "source": [
    "### Explicação do tema (o que é, utilidade, quando é utilizado...)\n"
   ]
  },
  {
   "cell_type": "markdown",
   "metadata": {},
   "source": [
    "\n",
    "-static site generator\n",
    "-usa uma poderosa preconfiguração pra construir websites que usam apenas static files para carregamento super rápido de páginas,..\n",
    "-Gatsby tranforma isso em um diretório com um único arquivo HTML and your static assets.\n",
    "First, is the way Gatsby uses GraphQL to build it’s data layer.  What do I mean by that?  Gatsby is made to collect your data from wherever it may be: Markdown, JSON, your favorite CMS, third party APIs, anywhere! And at build time, it creates an internal GraphQL server of all of this data. So in your react components, all of your data is queried at build time from that same place, in the same way through GraphQL.\n",
    "Gatsby is also built on top of GraphQL, so you can query data and display them on your static website any way you want"
   ]
  },
  {
   "cell_type": "markdown",
   "metadata": {},
   "source": [
    "**_\"Gatsby é um framework baseado no React que ajuda desenvolvedores construírem rápidos websites e aplicativos.\"_** (Gatsby website)"
   ]
  },
  {
   "cell_type": "code",
   "execution_count": null,
   "metadata": {},
   "outputs": [],
   "source": [
    "Gatsby é um _static site generator_, ou seja, gerador de site estático. Ele utiliza uma poderosa preconfiguração para construir websites que usam apenas _static files_ para o carregamento super rápido de páginas. \n",
    "\n",
    "Gatsby usa o GraphQL para construir as camadas de dados do website. Ele coleta os dados de onde for que seja e no momento da construção do website, cria um servidor do GraphQL interno de todos esses dados. Portanto em seus componentes do react\n",
    "\n"
   ]
  },
  {
   "cell_type": "markdown",
   "metadata": {},
   "source": [
    "### O passo a passo para implementação de um exemplo\n"
   ]
  },
  {
   "cell_type": "markdown",
   "metadata": {},
   "source": [
    "# <font color=orange>TUTORIAL</font>"
   ]
  },
  {
   "cell_type": "markdown",
   "metadata": {},
   "source": [
    "Para começarmos a utilizar o GatsbyJS, é necessário fazer a instalação do Node.js(plataforma que nos permite a execução do JavaScript fora do navegador) e do Git(sistema que permite que vários desenvolvedores trabalhem no mesmo projeto e que salva o histórico de alterações do código). "
   ]
  },
  {
   "cell_type": "markdown",
   "metadata": {},
   "source": [
    "### Instalando o Node.js\n",
    "Para isso, entre no site <a href=https://nodejs.org/en/>Node.js</a> e faça o download da versão compatível com seu computador. \n"
   ]
  },
  {
   "cell_type": "markdown",
   "metadata": {},
   "source": [
    "### Instalando o Git\n",
    " Para isso, entre no site <a href=https://git-scm.com/>Git</a> e faça o download da versão compatível com seu computador."
   ]
  },
  {
   "cell_type": "markdown",
   "metadata": {},
   "source": [
    "Em seu terminal, digite:\n",
    "    `npm install -g gatsby`\n",
    "    \n",
    "Algo parecido com isso deve aparecer em seu terminal:\n",
    "    \n",
    "    <img src=\"gatsby1.png\">"
   ]
  },
  {
   "cell_type": "markdown",
   "metadata": {},
   "source": [
    "Com o Gatsby CLI intalado, agora podemos criar nosso website. \n",
    "Faremos isso com o seguinte comando:\n",
    "    `gatsby new (nome que vc quer dar para o website)`\n",
    "\n",
    "No meu chamei de landing-mileage, então ficou:\n",
    "    `gatsby new landing-mileage`\n",
    "    \n",
    "Pode ser que demore alguns segundos para que o Gatsby CLI instale e configure todos os documentos necessários. Assim que estiver carregado, teremos um website Gatsby pronto para podermos construir em cima. Para acessá-lo é preciso entrar na pasta que criamos, no caso landing-mileage.\n",
    "Para isso utilizamos o comando\n",
    "    `cd sitepoint demo`\n",
    "\n",
    "E depois,\n",
    "    `gatsby develop`\n",
    "    \n",
    "Agora sim abrimos uma janela http://localhost:8000. Você encontrará algo como:\n",
    "            \n",
    "            FOTO AQUI"
   ]
  },
  {
   "cell_type": "markdown",
   "metadata": {},
   "source": [
    "Um respositório vazio no Git será criado automaticamente, como mostrado abaixo:\n",
    "    \n",
    "    FOTOO \n",
    "\n",
    "Para começarmos o desenvolvimento da landing page, é preciso utilizarmos o comando:\n",
    "    `cd (nome que você deu para o website)`\n",
    "\n",
    "No caso, chamado de landing-mileage, portanto o comando:\n",
    "    `cd landing-mileage`\n",
    "\n",
    "Agora que estamos no diretório correto, utilizaremos o comando:\n",
    "    `gatsby develop`\n",
    "    \n",
    "Este comando da início ao desenvolvimento do servidor, assim como observa arquivos, reconstrói, e da hot reloads se algumas coisa mudar.Ele pode demorar um pouco mais do que os outros comandos.\n",
    "\n",
    "*hot reloads é um termo utulizado quando apenas as páginas que foram modificadas são atualizadas, sem perder o estado do app\n"
   ]
  },
  {
   "cell_type": "markdown",
   "metadata": {},
   "source": [
    "No final da resposta do prompt, o Gatsby irá indicar que para acessar \"gatsby-starter-default\" no seu browser.\n",
    "\n",
    "    http://localhost:8000/\n",
    "    \n",
    "Você chagará numa página como essa:\n",
    "\n",
    "FOTOOOO\n",
    "\n",
    "Curiosidade:\n",
    "O gatsby também indica visualizar o GraphiQL para explorar os dados e esquemas do seu site.\n",
    "    http://localhost:8000/___graphql\n",
    "    \n"
   ]
  },
  {
   "cell_type": "markdown",
   "metadata": {},
   "source": [
    "Dentro do projeto instalado pelo Gatsby com o nome que demos (nesse caso landing-mileage), você encontrará várias pastas e arquivos diferentes.\n",
    "\n",
    "Abaixo vão alguns exemplos:\n",
    "\n",
    "|-- /.cache\n",
    "\n",
    "|-- /plugins\n",
    "\n",
    "|-- /public\n",
    "\n",
    "|-- /src\n",
    "\n",
    "    |-- /pages\n",
    "    \n",
    "    |-- /templates\n",
    "    \n",
    "    |-- html.js\n",
    "    \n",
    "|-- /static\n",
    "\n",
    "|-- gatsby-config.js\n",
    "\n",
    "|-- gatsby-node.js\n",
    "\n",
    "|-- gatsby-ssr.js\n",
    "\n",
    "|-- gatsby-browser.js\n",
    "\n",
    "\n",
    "Vamos descobrir a função de cada um deles:\n",
    "\n",
    "**`gatsby-config.js`** -> configura opções para um site Gatsby, com metadata para o título do projeto, plugins, e outras coisas.\n",
    "\n",
    "**`gatsby-node.js`** -> implementa os APIs do Node.js do gatsby para customizar e extender configurações padrão que afetam o processo de construção.\n",
    "\n",
    "**`gastby-browser.js`** - customiza e extende configurações padrão que afetam o navegador, utilizando os APIs do Gatsby.\n",
    "\n",
    "**`gatsby-ssr.js`** - utiliza os APIs de renderização do lado do servidor do Gatsby para customizar configurações padrão que afetam a renderização do lado do servidor."
   ]
  },
  {
   "cell_type": "markdown",
   "metadata": {},
   "source": [
    "Agora temos tudo necessário para construirmos nossa landing page. Vamos construí-la com base no template padrão do Gatsby quando acessamos o http://localhost:8000/.\n",
    "\n",
    "Abriremos os arquivos em um editor de código, nesse caso utilizei o _Sublime_, por ser o editor que mais uso quando lidando com HTML, css e js.\n",
    "\n",
    "No arquivo index.js a princípio podemos mudar o título do site e o parágrafo de introdução. \n",
    "\n",
    "Já no arquivo image.js podemos inserir as imagens que queremos para a landing page. \n",
    "\n",
    "No arquivo header.js controlamos a configuração do header da página.\n",
    "\n",
    "No arquivo layout.css configuramos a parte mais estética da página."
   ]
  },
  {
   "cell_type": "markdown",
   "metadata": {},
   "source": [
    "Quanto às alterações feitas por mim, modifiquei a cor, fonte e conteúdo, assim como removi o link que levava o usuário para uma segunda página."
   ]
  },
  {
   "cell_type": "markdown",
   "metadata": {},
   "source": [
    "O Gatsby automaticamente transforma componentes do React de páginas src em páginas com URLs. Por exemplo, componentes em src/pages/index.js criariam automaticamente páginas com o nome desses arquivos para o index do\n",
    "\n",
    "index page (/) and /about."
   ]
  },
  {
   "cell_type": "code",
   "execution_count": null,
   "metadata": {},
   "outputs": [],
   "source": []
  },
  {
   "cell_type": "markdown",
   "metadata": {},
   "source": []
  },
  {
   "cell_type": "markdown",
   "metadata": {},
   "source": [
    "### Contextualização (como esse tema pode se encaixar no projeto?)"
   ]
  },
  {
   "cell_type": "markdown",
   "metadata": {},
   "source": [
    "Esse tema pode se encaixar no projeto quando se trata da comunicação entre o piloto e da base. Pelo fato das páginas carregarem com muita rapidez, isso permite acesso mais imediato as informações que estarão no painel de controle e o a comunicação entre a equipe e o piloto. Além disso, o Gatsby pode também ser utilizado no desenvolvimento de um website do Insper Mileage."
   ]
  }
 ],
 "metadata": {
  "kernelspec": {
   "display_name": "Python 3",
   "language": "python",
   "name": "python3"
  },
  "language_info": {
   "codemirror_mode": {
    "name": "ipython",
    "version": 3
   },
   "file_extension": ".py",
   "mimetype": "text/x-python",
   "name": "python",
   "nbconvert_exporter": "python",
   "pygments_lexer": "ipython3",
   "version": "3.7.1"
  }
 },
 "nbformat": 4,
 "nbformat_minor": 2
}
